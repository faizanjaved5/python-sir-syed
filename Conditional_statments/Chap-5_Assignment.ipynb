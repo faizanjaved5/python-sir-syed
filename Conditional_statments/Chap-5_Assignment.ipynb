{
 "cells": [
  {
   "cell_type": "code",
   "execution_count": 4,
   "metadata": {},
   "outputs": [
    {
     "name": "stdout",
     "output_type": "stream",
     "text": [
      "You Just Earned 5 Points\n"
     ]
    }
   ],
   "source": [
    "#Example 5.3(i)\n",
    "alien_color = 'green'\n",
    "if alien_color == 'green':\n",
    "    print('You Just Earned 5 Points')"
   ]
  },
  {
   "cell_type": "code",
   "execution_count": 9,
   "metadata": {
    "collapsed": true
   },
   "outputs": [],
   "source": [
    "#Example 5.3(ii)\n",
    "alien_color = 'red'\n",
    "if alien_color == 'green':\n",
    "    print('You Just Earned 5 Points')"
   ]
  },
  {
   "cell_type": "code",
   "execution_count": 11,
   "metadata": {},
   "outputs": [
    {
     "name": "stdout",
     "output_type": "stream",
     "text": [
      "You Just Earned 5 points\n"
     ]
    }
   ],
   "source": [
    "#Example 5.4 (i)\n",
    "alien_color = 'green'\n",
    "\n",
    "if alien_color == 'green':\n",
    "    print('You Just Earned 5 points')\n",
    "else:\n",
    "    print('You just earned 10 points')"
   ]
  },
  {
   "cell_type": "code",
   "execution_count": 10,
   "metadata": {},
   "outputs": [
    {
     "name": "stdout",
     "output_type": "stream",
     "text": [
      "You just earned 10 points\n"
     ]
    }
   ],
   "source": [
    "#Example 5.4 (ii)\n",
    "alien_color = 'yellow'\n",
    "\n",
    "if alien_color == 'green':\n",
    "    print('You Just Earned 5 points')\n",
    "else:\n",
    "    print('You just earned 10 points')"
   ]
  },
  {
   "cell_type": "code",
   "execution_count": 13,
   "metadata": {},
   "outputs": [
    {
     "name": "stdout",
     "output_type": "stream",
     "text": [
      "player earned 5 points\n"
     ]
    }
   ],
   "source": [
    "#Example 5.5 (i)\n",
    "alien_color = 'green'\n",
    "\n",
    "if alien_color == 'green':\n",
    "    print('player earned 5 points')\n",
    "elif alien_color == 'yellow':\n",
    "    print('player earned 10 points')\n",
    "elif alien_color == 'red':\n",
    "    print('player earned 15 points')"
   ]
  },
  {
   "cell_type": "code",
   "execution_count": 15,
   "metadata": {},
   "outputs": [
    {
     "name": "stdout",
     "output_type": "stream",
     "text": [
      "player earned 10 points\n"
     ]
    }
   ],
   "source": [
    "#Example 5.5 (ii)\n",
    "alien_color = 'yellow'\n",
    "\n",
    "if alien_color == 'green':\n",
    "    print('player earned 5 points')\n",
    "elif alien_color == 'yellow':\n",
    "    print('player earned 10 points')\n",
    "elif alien_color == 'red':\n",
    "    print('player earned 15 points')"
   ]
  },
  {
   "cell_type": "code",
   "execution_count": 17,
   "metadata": {},
   "outputs": [
    {
     "name": "stdout",
     "output_type": "stream",
     "text": [
      "player earned 15 points\n"
     ]
    }
   ],
   "source": [
    "#Example 5.5 (iii)\n",
    "alien_color = 'red'\n",
    "\n",
    "if alien_color == 'green':\n",
    "    print('player earned 5 points')\n",
    "elif alien_color == 'yellow':\n",
    "    print('player earned 10 points')\n",
    "elif alien_color == 'red':\n",
    "    print('player earned 15 points')"
   ]
  },
  {
   "cell_type": "code",
   "execution_count": 24,
   "metadata": {},
   "outputs": [
    {
     "name": "stdout",
     "output_type": "stream",
     "text": [
      "person is baby\n"
     ]
    }
   ],
   "source": [
    "#Example 5.6(i)\n",
    "\n",
    "age = 1\n",
    "\n",
    "if age < 2:\n",
    "    print('person is baby')\n",
    "elif age < 4:\n",
    "    print('person is toodler')\n",
    "elif age < 13:\n",
    "    print('person is kid')\n",
    "elif age < 20:\n",
    "    print('person is teenager')\n",
    "elif age < 65:\n",
    "    print('person is an adult')\n",
    "elif age >= 65:\n",
    "    print('person is an elder')"
   ]
  },
  {
   "cell_type": "code",
   "execution_count": 26,
   "metadata": {},
   "outputs": [
    {
     "name": "stdout",
     "output_type": "stream",
     "text": [
      "person is toodler\n"
     ]
    }
   ],
   "source": [
    "#Example 5.6(ii)\n",
    "\n",
    "age = 3\n",
    "\n",
    "if age < 2:\n",
    "    print('person is baby')\n",
    "elif age < 4:\n",
    "    print('person is toodler')\n",
    "elif age < 13:\n",
    "    print('person is kid')\n",
    "elif age < 20:\n",
    "    print('person is teenager')\n",
    "elif age < 65:\n",
    "    print('person is an adult')\n",
    "elif age >= 65:\n",
    "    print('person is an elder')"
   ]
  },
  {
   "cell_type": "code",
   "execution_count": 28,
   "metadata": {},
   "outputs": [
    {
     "name": "stdout",
     "output_type": "stream",
     "text": [
      "person is kid\n"
     ]
    }
   ],
   "source": [
    "#Example 5.6(iii)\n",
    "\n",
    "age = 6\n",
    "\n",
    "if age < 2:\n",
    "    print('person is baby')\n",
    "elif age < 4:\n",
    "    print('person is toodler')\n",
    "elif age < 13:\n",
    "    print('person is kid')\n",
    "elif age < 20:\n",
    "    print('person is teenager')\n",
    "elif age < 65:\n",
    "    print('person is an adult')\n",
    "elif age >= 65:\n",
    "    print('person is an elder')"
   ]
  },
  {
   "cell_type": "code",
   "execution_count": 30,
   "metadata": {},
   "outputs": [
    {
     "name": "stdout",
     "output_type": "stream",
     "text": [
      "person is teenager\n"
     ]
    }
   ],
   "source": [
    "#Example 5.6(iv)\n",
    "\n",
    "age = 14\n",
    "\n",
    "if age < 2:\n",
    "    print('person is baby')\n",
    "elif age < 4:\n",
    "    print('person is toodler')\n",
    "elif age < 13:\n",
    "    print('person is kid')\n",
    "elif age < 20:\n",
    "    print('person is teenager')\n",
    "elif age < 65:\n",
    "    print('person is an adult')\n",
    "elif age >= 65:\n",
    "    print('person is an elder')"
   ]
  },
  {
   "cell_type": "code",
   "execution_count": 32,
   "metadata": {},
   "outputs": [
    {
     "name": "stdout",
     "output_type": "stream",
     "text": [
      "person is an adult\n"
     ]
    }
   ],
   "source": [
    "#Example 5.6(v)\n",
    "\n",
    "age = 23\n",
    "\n",
    "if age < 2:\n",
    "    print('person is baby')\n",
    "elif age < 4:\n",
    "    print('person is toodler')\n",
    "elif age < 13:\n",
    "    print('person is kid')\n",
    "elif age < 20:\n",
    "    print('person is teenager')\n",
    "elif age < 65:\n",
    "    print('person is an adult')\n",
    "elif age >= 65:\n",
    "    print('person is an elder')"
   ]
  },
  {
   "cell_type": "code",
   "execution_count": 34,
   "metadata": {},
   "outputs": [
    {
     "name": "stdout",
     "output_type": "stream",
     "text": [
      "person is an elder\n"
     ]
    }
   ],
   "source": [
    "#Example 5.6(vi)\n",
    "\n",
    "age = 77\n",
    "\n",
    "if age < 2:\n",
    "    print('person is baby')\n",
    "elif age < 4:\n",
    "    print('person is toodler')\n",
    "elif age < 13:\n",
    "    print('person is kid')\n",
    "elif age < 20:\n",
    "    print('person is teenager')\n",
    "elif age < 65:\n",
    "    print('person is an adult')\n",
    "elif age >= 65:\n",
    "    print('person is an elder')"
   ]
  },
  {
   "cell_type": "code",
   "execution_count": 42,
   "metadata": {},
   "outputs": [
    {
     "name": "stdout",
     "output_type": "stream",
     "text": [
      "You really like mango\n",
      "You really like watermelon\n",
      "You really like pomegranate\n"
     ]
    }
   ],
   "source": [
    "#Example 5.7\n",
    "\n",
    "favorite_fruits = ['mango','pomegranate','watermelon']\n",
    "\n",
    "if 'mango' in favorite_fruits:\n",
    "    print('You really like mango')\n",
    "if 'apple' in favorite_fruits:\n",
    "    print('You really like apple')\n",
    "if 'orange' in favorite_fruits:\n",
    "    print('You really like orange')\n",
    "if 'watermelon' in favorite_fruits:\n",
    "    print('You really like watermelon')\n",
    "if 'pomegranate' in favorite_fruits:\n",
    "    print('You really like pomegranate')"
   ]
  },
  {
   "cell_type": "code",
   "execution_count": 40,
   "metadata": {},
   "outputs": [
    {
     "name": "stdout",
     "output_type": "stream",
     "text": [
      "Hello osama, thank you for logging in again.\n",
      "\n",
      "Hello faizan, thank you for logging in again.\n",
      "\n",
      "Hello mustufa, thank you for logging in again.\n",
      "\n",
      "Hello admin, would you like to see a status report?\n",
      "\n",
      "Hello zawar, thank you for logging in again.\n",
      "\n",
      "Hello ali, thank you for logging in again.\n",
      "\n",
      "Hello hamza, thank you for logging in again.\n",
      "\n",
      "Hello moiz, thank you for logging in again.\n",
      "\n"
     ]
    }
   ],
   "source": [
    "#Example 5.8\n",
    "user_names = ['osama','faizan','mustufa','admin','zawar','ali','hamza','moiz']\n",
    "\n",
    "for user_name in user_names:\n",
    "    if user_name == 'admin':\n",
    "        print('Hello '+str(user_name)+', would you like to see a status report?\\n')\n",
    "    else:\n",
    "        print('Hello '+str(user_name)+', thank you for logging in again.\\n')"
   ]
  },
  {
   "cell_type": "code",
   "execution_count": 45,
   "metadata": {},
   "outputs": [
    {
     "name": "stdout",
     "output_type": "stream",
     "text": [
      "We need to find some users!\n"
     ]
    }
   ],
   "source": [
    "#Example 5.9(i)\n",
    "user_names = []\n",
    "\n",
    "if user_names:\n",
    "    for user_name in user_names:\n",
    "        if user_name == 'admin':\n",
    "            print('Hello '+str(user_name)+', would you like to see a status report?\\n')\n",
    "        else:\n",
    "            print('Hello '+str(user_name)+', thank you for logging in again.\\n')\n",
    "else:\n",
    "    print('We need to find some users!')"
   ]
  },
  {
   "cell_type": "code",
   "execution_count": 47,
   "metadata": {},
   "outputs": [
    {
     "name": "stdout",
     "output_type": "stream",
     "text": [
      "Hello osama, thank you for logging in again.\n",
      "\n",
      "Hello faizan, thank you for logging in again.\n",
      "\n",
      "Hello mustufa, thank you for logging in again.\n",
      "\n",
      "Hello admin, would you like to see a status report?\n",
      "\n",
      "Hello zawar, thank you for logging in again.\n",
      "\n",
      "Hello ali, thank you for logging in again.\n",
      "\n",
      "Hello hamza, thank you for logging in again.\n",
      "\n",
      "Hello moiz, thank you for logging in again.\n",
      "\n"
     ]
    }
   ],
   "source": [
    "#Example 5.9(ii)\n",
    "user_names = ['osama','faizan','mustufa','admin','zawar','ali','hamza','moiz']\n",
    "\n",
    "if user_names:\n",
    "    for user_name in user_names:\n",
    "        if user_name == 'admin':\n",
    "            print('Hello '+str(user_name)+', would you like to see a status report?\\n')\n",
    "        else:\n",
    "            print('Hello '+str(user_name)+', thank you for logging in again.\\n')\n",
    "else:\n",
    "    print('We need to find some users!')"
   ]
  },
  {
   "cell_type": "code",
   "execution_count": 50,
   "metadata": {},
   "outputs": [
    {
     "name": "stdout",
     "output_type": "stream",
     "text": [
      "you will need to enter anew username\n",
      "username is available\n",
      "you will need to enter anew username\n",
      "username is available\n",
      "username is available\n"
     ]
    }
   ],
   "source": [
    "#Example 5.10\n",
    "current_users = ['osama','moiz','faizan','ali','haris']\n",
    "new_users = ['faizan','zawar','ali','mustufa','hamza']\n",
    "\n",
    "for new_user in new_users:\n",
    "    if new_user in current_users:\n",
    "        print('you will need to enter anew username')\n",
    "    else:\n",
    "        print('username is available')"
   ]
  },
  {
   "cell_type": "code",
   "execution_count": 49,
   "metadata": {},
   "outputs": [
    {
     "name": "stdout",
     "output_type": "stream",
     "text": [
      "1st\n",
      "2nd\n",
      "3rd\n",
      "4th\n",
      "5th\n",
      "6th\n",
      "7th\n",
      "8th\n",
      "9th\n",
      "10th\n"
     ]
    }
   ],
   "source": [
    "#Example 5.11\n",
    "\n",
    "ordinal_numbers = []\n",
    "for num in range(1,11):\n",
    "    ordinal_numbers.append(num)\n",
    "\n",
    "for ordinal_number in ordinal_numbers:\n",
    "    if(ordinal_number == 1):\n",
    "        print(str(ordinal_number)+'st')\n",
    "    elif(ordinal_number == 2):\n",
    "        print(str(ordinal_number)+'nd')\n",
    "    elif(ordinal_number == 3):\n",
    "        print(str(ordinal_number)+'rd')\n",
    "    else:\n",
    "        print(str(ordinal_number)+'th')"
   ]
  }
 ],
 "metadata": {
  "kernelspec": {
   "display_name": "Python 3",
   "language": "python",
   "name": "python3"
  },
  "language_info": {
   "codemirror_mode": {
    "name": "ipython",
    "version": 3
   },
   "file_extension": ".py",
   "mimetype": "text/x-python",
   "name": "python",
   "nbconvert_exporter": "python",
   "pygments_lexer": "ipython3",
   "version": "3.6.2"
  }
 },
 "nbformat": 4,
 "nbformat_minor": 2
}
